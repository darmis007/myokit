{
 "cells": [
  {
   "cell_type": "markdown",
   "metadata": {},
   "source": [
    "# Simulating an action potential\n"
   ]
  },
  {
   "cell_type": "markdown",
   "metadata": {},
   "source": [
    "In this first example, we're going to use Myokit to simulate an action potential (AP), using [a model of the human ventricular AP](https://doi.org/10.1152/ajpheart.00109.2006) by ten Tusscher et al.\n",
    "You can download a copy of the model here: [tentusscher-2006.mmt](models/tentusscher-2006.mmt).\n",
    "\n",
    "This model has been implemented in Myokit's [\"mmt syntax\"](https://myokit.readthedocs.io/syntax/index.html) (basically an ini file with equations in it). But in this example we won't focus on the equations much, and instead just run a few simulations."
   ]
  },
  {
   "cell_type": "markdown",
   "metadata": {},
   "source": [
    "## Loading a model and protocol"
   ]
  },
  {
   "cell_type": "markdown",
   "metadata": {},
   "source": [
    "Two things are needed to create a Myokit [Simulation](https://myokit.readthedocs.io/api_simulations/Simulation.html): a model and a protocol.\n",
    "\n",
    "The [Model](https://myokit.readthedocs.io/api_core/Model.html) contains all the equations, and a few annotations that tell the simulator where to find specific variables (e.g. the variable representing time).\n",
    "A [Protocol](https://myokit.readthedocs.io/api_simulations/Protocol.html) is used to apply external stimuli to the cell, for example a periodic pacing signal (for current-clamp simulations) or a sequence of voltage steps (for voltage-clamp simulation).\n",
    "\n",
    "Myokit's `mmt` files contain a model, a protocol, and usually an example script as well, so you can load all three from a file:"
   ]
  },
  {
   "cell_type": "code",
   "execution_count": 2,
   "metadata": {},
   "outputs": [],
   "source": [
    "import myokit\n",
    "\n",
    "model, protocol, script = myokit.load('models/tentusscher-2006.mmt')"
   ]
  },
  {
   "cell_type": "markdown",
   "metadata": {},
   "source": [
    "You don't have to load all three at once, there are also methods to load the specific bits you need:"
   ]
  },
  {
   "cell_type": "code",
   "execution_count": 3,
   "metadata": {},
   "outputs": [],
   "source": [
    "model = myokit.load_model('models/tentusscher-2006.mmt')\n",
    "protocol = myokit.load_protocol('models/tentusscher-2006.mmt')"
   ]
  },
  {
   "cell_type": "markdown",
   "metadata": {},
   "source": [
    "Alternatively, if you're using the Myokit IDE, you can load a model and a protocol using the methods `get_model()` and `get_protocol()`."
   ]
  },
  {
   "cell_type": "markdown",
   "metadata": {},
   "source": [
    "## Creating a simulation"
   ]
  },
  {
   "cell_type": "markdown",
   "metadata": {},
   "source": [
    "We now combine the Model and Protocol objects to create a simulation:"
   ]
  },
  {
   "cell_type": "code",
   "execution_count": 4,
   "metadata": {},
   "outputs": [],
   "source": [
    "sim = myokit.Simulation(model, protocol)"
   ]
  },
  {
   "cell_type": "markdown",
   "metadata": {},
   "source": [
    "You might notice this step takes a little longer than loading the model and protocol.\n",
    "This is because a myokit Simulation is a *compiled object*: it takes the equations from the Model, converts them to C, links to an ODE solver library, adds some Python wrappers, and then compiles the lot.\n",
    "But let's not worry about that for now..."
   ]
  },
  {
   "cell_type": "markdown",
   "metadata": {},
   "source": [
    "## Running and visualising the results"
   ]
  },
  {
   "cell_type": "markdown",
   "metadata": {},
   "source": [
    "Once created, we can run the simulation:"
   ]
  },
  {
   "cell_type": "code",
   "execution_count": 5,
   "metadata": {},
   "outputs": [],
   "source": [
    "d = sim.run(1000)"
   ]
  },
  {
   "cell_type": "markdown",
   "metadata": {},
   "source": [
    "This runs the simulation for 1000 time units: In most models that means 1000ms, but in some models this will be a 1000 seconds, so best to check before running!\n",
    "\n",
    "Simulation results are returned in the form of a [DataLog](https://myokit.readthedocs.io/api_simulations/DataLog.html).\n",
    "This is a wrapper around Python's dictionary type, and allows you to access all logged variables using their \"fully qualified names\" as keys:"
   ]
  },
  {
   "cell_type": "code",
   "execution_count": 8,
   "metadata": {},
   "outputs": [
    {
     "data": {
      "image/png": "[encoded data removed]",
      "text/plain": [
       "<Figure size 432x288 with 1 Axes>"
      ]
     },
     "metadata": {
      "needs_background": "light"
     },
     "output_type": "display_data"
    }
   ],
   "source": [
    "import matplotlib.pyplot as plt\n",
    "plt.figure()\n",
    "plt.plot(d['engine.time'], d['membrane.V'])\n",
    "plt.show()"
   ]
  },
  {
   "cell_type": "markdown",
   "metadata": {},
   "source": [
    "Because data logs are [dicts](https://docs.python.org/3/library/stdtypes.html#typesmapping), you can see a list of the logged variables using the `.keys()` method:"
   ]
  },
  {
   "cell_type": "code",
   "execution_count": 9,
   "metadata": {},
   "outputs": [
    {
     "name": "stdout",
     "output_type": "stream",
     "text": [
      "odict_keys(['membrane.V', 'calcium.Ca_i', 'calcium.Ca_sr', 'calcium.Ca_ss', 'calcium.R_prime', 'sodium.Na_i', 'potassium.K_i', 'ikr.xr1', 'ikr.xr2', 'iks.xs', 'ina.m', 'ina.h', 'ina.j', 'ical.d', 'ical.f', 'ical.f2', 'ical.fCass', 'ito.s', 'ito.r', 'engine.time', 'engine.pace', 'membrane.i_ion', 'stimulus.i_stim', 'rev.ECa', 'rev.EK', 'rev.EKs', 'rev.ENa', 'ical.ICaL', 'ical.ICaL.p1', 'ical.ICaL.p2', 'ical.d.alpha', 'ical.d.beta', 'ical.d.gamma', 'ical.d.tau', 'ical.d.inf', 'ical.f2.inf', 'ical.f2.tau', 'ical.fCass.inf', 'ical.fCass.tau', 'ical.f.inf', 'ical.f.tau', 'icab.ICaB', 'ipca.IpCa', 'ina.INa', 'ina.m.inf', 'ina.m.tau', 'ina.m.alpha', 'ina.m.beta', 'ina.h.inf', 'ina.h.tau', 'ina.h.alpha', 'ina.h.beta', 'ina.j.inf', 'ina.j.tau', 'ina.j.alpha', 'ina.j.beta', 'ik1.IK1', 'ik1.inf', 'ik1.inf.alpha', 'ik1.inf.beta', 'ipk.IpK', 'ikr.IKr', 'ikr.xr1.alpha', 'ikr.xr1.beta', 'ikr.xr1.tau', 'ikr.xr1.inf', 'ikr.xr2.alpha', 'ikr.xr2.beta', 'ikr.xr2.tau', 'ikr.xr2.inf', 'iks.IKs', 'iks.xs.alpha', 'iks.xs.beta', 'iks.xs.tau', 'iks.xs.inf', 'inab.INaB', 'inaca.Nai3', 'inaca.INaCa', 'inak.INaK', 'ito.ITo', 'ito.r.inf', 'ito.r.tau', 'ito.s.inf', 'ito.s.tau', 'sodium.ItNa', 'potassium.ItK', 'calcium.ItCa', 'calcium.Ca_i.Ca_i_bufc', 'calcium.Ca_ss.Ca_ss_bufss', 'calcium.Ca_sr.Ca_sr_bufsr', 'calcium.kcasr', 'calcium.O', 'calcium.O.k1', 'calcium.R_prime.k2', 'calcium.i_leak', 'calcium.i_rel', 'calcium.i_up', 'calcium.i_xfer', 'dot(membrane.V)', 'dot(calcium.Ca_i)', 'dot(calcium.Ca_sr)', 'dot(calcium.Ca_ss)', 'dot(calcium.R_prime)', 'dot(sodium.Na_i)', 'dot(potassium.K_i)', 'dot(ikr.xr1)', 'dot(ikr.xr2)', 'dot(iks.xs)', 'dot(ina.m)', 'dot(ina.h)', 'dot(ina.j)', 'dot(ical.d)', 'dot(ical.f)', 'dot(ical.f2)', 'dot(ical.fCass)', 'dot(ito.s)', 'dot(ito.r)'])\n"
     ]
    }
   ],
   "source": [
    "print(d.keys())"
   ]
  },
  {
   "cell_type": "markdown",
   "metadata": {},
   "source": [
    "Alternatively, you can have a look at the model code.\n",
    "\n",
    "For example, the model we used contains this snippet:\n",
    "\n",
    "```\n",
    "[engine]\n",
    "time = 0\n",
    "    in [ms]\n",
    "    bind time\n",
    "```\n",
    "\n",
    "this defines a component called \"engine\", and a variable called \"time\" that has units millisecond.\n",
    "The final line indicates that this is a special variable that represents time.\n",
    "\n",
    "\n",
    "To access the variable `time` from the component `engine`, we use the syntax `engine.time`\n",
    "\n",
    "Further down in the model we find:\n",
    "\n",
    "```\n",
    "[membrane]\n",
    "dot(V) = -(i_ion + i_stim + i_diff)\n",
    "    in [mV]\n",
    "```\n",
    "\n",
    "this defines a component `membrane` with a variable `V` (defined through its time-derivative $\\dot{V}$), that we can obtain from the log as `membrane.V`."
   ]
  },
  {
   "cell_type": "markdown",
   "metadata": {},
   "source": [
    "We can look up other variables in the model, and plot them instead of V. For example, we could have a look at the calcium transient, which in this model means plotting the variable `calcium.Ca_i`:"
   ]
  },
  {
   "cell_type": "code",
   "execution_count": 10,
   "metadata": {},
   "outputs": [
    {
     "data": {
      "image/png": "[encoded data removed]",
      "text/plain": [
       "<Figure size 432x288 with 1 Axes>"
      ]
     },
     "metadata": {
      "needs_background": "light"
     },
     "output_type": "display_data"
    }
   ],
   "source": [
    "plt.figure()\n",
    "plt.plot(d['engine.time'], d['calcium.Ca_i'])\n",
    "plt.show()"
   ]
  },
  {
   "cell_type": "markdown",
   "metadata": {},
   "source": [
    "In fact, we can do a little better than that, and add proper axis labels:"
   ]
  },
  {
   "cell_type": "code",
   "execution_count": 11,
   "metadata": {},
   "outputs": [
    {
     "data": {
      "image/png": "[encoded data removed]",
      "text/plain": [
       "<Figure size 432x288 with 1 Axes>"
      ]
     },
     "metadata": {
      "needs_background": "light"
     },
     "output_type": "display_data"
    }
   ],
   "source": [
    "plt.figure()\n",
    "plt.xlabel('Time (ms)')\n",
    "plt.ylabel('$[Ca^{2+}]_i$ (mM)')\n",
    "plt.plot(d['engine.time'], d['calcium.Ca_i'], label='Calcium transient in the TNNP 2006 model')\n",
    "plt.legend()\n",
    "plt.show()"
   ]
  },
  {
   "cell_type": "markdown",
   "metadata": {},
   "source": [
    "In these examples, we'll use [Matplotlib](https://matplotlib.org/) to do the plotting, but other libraries are available that work with Myokit just as well.\n",
    "\n",
    "To plot the results outside of Python, we can export a simulation log to [CSV](https://en.wikipedia.org/wiki/Comma-separated_values) using `d.save_csv('results.csv')`."
   ]
  },
  {
   "cell_type": "markdown",
   "metadata": {},
   "source": [
    "## Conclusion\n",
    "\n",
    "So that's it!\n",
    "You can load models and protocols with `myokit.load()`, then create a `myokit.Simulation`, run it with `run()` and visualise the results by fetching them from the returned `DataLog`.\n",
    "\n",
    "In the next examples, we'll play around with the Simulation object some more."
   ]
  }
 ],
 "metadata": {
  "kernelspec": {
   "display_name": "Python 3",
   "language": "python",
   "name": "python3"
  },
  "language_info": {
   "codemirror_mode": {
    "name": "ipython",
    "version": 3
   },
   "file_extension": ".py",
   "mimetype": "text/x-python",
   "name": "python",
   "nbconvert_exporter": "python",
   "pygments_lexer": "ipython3",
   "version": "3.7.4"
  }
 },
 "nbformat": 4,
 "nbformat_minor": 2
}
